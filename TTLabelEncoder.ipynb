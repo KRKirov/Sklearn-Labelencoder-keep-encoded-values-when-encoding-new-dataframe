{
 "cells": [
  {
   "cell_type": "markdown",
   "metadata": {},
   "source": [
    "# Sklearn Labelencoder keep encoded values when encoding new dataframe"
   ]
  },
  {
   "cell_type": "markdown",
   "metadata": {},
   "source": [
    "Based on an answer posted on StackOverflow:\n",
    "https://stackoverflow.com/questions/58754795/sklearn-labelencoder-keep-encoded-values-when-encoding-new-dataframe."
   ]
  },
  {
   "cell_type": "code",
   "execution_count": 2,
   "metadata": {},
   "outputs": [],
   "source": [
    "import numpy as np\n",
    "import pandas as pd\n",
    "from sklearn.base import BaseEstimator\n",
    "from sklearn.base import TransformerMixin"
   ]
  },
  {
   "cell_type": "code",
   "execution_count": 3,
   "metadata": {},
   "outputs": [],
   "source": [
    "class TTLabelEncoder(BaseEstimator, TransformerMixin):\n",
    "    \"\"\"Transform data frame columns with different categorical values\n",
    "    in training and test data\n",
    "    \n",
    "    Pass individual data frame columns to the class instance\"\"\"\n",
    "    \n",
    "    def __init__(self):\n",
    "        self.code_dic = None\n",
    "        self.max_code = None\n",
    "        self.fitted = False\n",
    "    \n",
    "    def fit(self, df):\n",
    "        self.code_dict = dict(zip(df.unique(),\n",
    "                                  np.arange(len(df.unique()))))\n",
    "        self.__max_code__()\n",
    "        self.fitted = True\n",
    "        return self\n",
    "    \n",
    "    def transform(self, df):\n",
    "        assert self.fitted == True, 'Fit the data before transforming.'\n",
    "        new_cat = set(df.unique()).difference(set(self.code_dict.keys()))\n",
    "        if new_cat:\n",
    "            new_codes = dict(zip(new_cat, \n",
    "                     np.arange(len(new_cat)) + self.max_code + 1))\n",
    "            self.code_dict.update(new_codes)\n",
    "            self.__max_code__()\n",
    "        return df.map(self.code_dict)\n",
    "    \n",
    "    def __max_code__(self):\n",
    "        self.max_code = max(self.code_dict.values())\n",
    "        return self\n",
    "    \n",
    "    def fit_transform(self, df):\n",
    "        if self.fitted == False:\n",
    "            self.fit(df)\n",
    "        df = self.transform(df)\n",
    "        return df"
   ]
  },
  {
   "cell_type": "markdown",
   "metadata": {},
   "source": [
    "# Example"
   ]
  },
  {
   "cell_type": "code",
   "execution_count": 20,
   "metadata": {},
   "outputs": [
    {
     "name": "stdout",
     "output_type": "stream",
     "text": [
      "  IP  Counts\n",
      "0  B      14\n",
      "1  D      10\n",
      "2  A      10\n",
      "3  C      12\n",
      "4  B      19\n"
     ]
    }
   ],
   "source": [
    "df_1 = pd.DataFrame({'IP': np.random.choice(list('ABCD'), size=5),\n",
    "                   'Counts': np.random.randint(10, 20, size=5)})\n",
    "print(df_1)"
   ]
  },
  {
   "cell_type": "code",
   "execution_count": 21,
   "metadata": {},
   "outputs": [
    {
     "data": {
      "text/plain": [
       "{'B': 0, 'D': 1, 'A': 2, 'C': 3}"
      ]
     },
     "execution_count": 21,
     "metadata": {},
     "output_type": "execute_result"
    }
   ],
   "source": [
    "ip_encoder = TTLabelEncoder()\n",
    "ip_encoder.fit(df_1['IP'])\n",
    "ip_encoder.code_dict"
   ]
  },
  {
   "cell_type": "code",
   "execution_count": 24,
   "metadata": {},
   "outputs": [
    {
     "name": "stdout",
     "output_type": "stream",
     "text": [
      "   IP  Counts\n",
      "0   0      14\n",
      "1   1      10\n",
      "2   2      10\n",
      "3   3      12\n",
      "4   0      19\n"
     ]
    }
   ],
   "source": [
    "df_1['IP'] = ip_encoder.transform(df_1['IP'])\n",
    "print(df_1)"
   ]
  },
  {
   "cell_type": "code",
   "execution_count": 30,
   "metadata": {},
   "outputs": [
    {
     "name": "stdout",
     "output_type": "stream",
     "text": [
      "  IP  Counts\n",
      "0  E      11\n",
      "1  F      12\n",
      "2  D      15\n",
      "3  F      17\n",
      "4  E      18\n"
     ]
    }
   ],
   "source": [
    "df_2 = pd.DataFrame({'IP': np.random.choice(list('DEF'), size=5),\n",
    "                   'Counts': np.random.randint(10, 20, size=5)})\n",
    "print(df_2)"
   ]
  },
  {
   "cell_type": "code",
   "execution_count": 31,
   "metadata": {},
   "outputs": [
    {
     "name": "stdout",
     "output_type": "stream",
     "text": [
      "   IP  Counts\n",
      "0   4      11\n",
      "1   5      12\n",
      "2   1      15\n",
      "3   5      17\n",
      "4   4      18\n"
     ]
    }
   ],
   "source": [
    "df_2['IP'] = ip_encoder.transform(df_2['IP'])\n",
    "print(df_2)"
   ]
  },
  {
   "cell_type": "code",
   "execution_count": 34,
   "metadata": {},
   "outputs": [
    {
     "name": "stdout",
     "output_type": "stream",
     "text": [
      "  IP  Counts\n",
      "0  Z      81\n",
      "1  X      62\n",
      "2  X      54\n",
      "3  Y      92\n",
      "4  Y      42\n"
     ]
    }
   ],
   "source": [
    "df_3 = pd.DataFrame({'IP': np.random.choice(list('XYZ'), size=5),\n",
    "                     'Counts': np.random.randint(40, 100, size=5)})\n",
    "print(df_3)"
   ]
  },
  {
   "cell_type": "code",
   "execution_count": 35,
   "metadata": {},
   "outputs": [
    {
     "name": "stdout",
     "output_type": "stream",
     "text": [
      "   IP  Counts\n",
      "0   8      81\n",
      "1   7      62\n",
      "2   7      54\n",
      "3   6      92\n",
      "4   6      42\n"
     ]
    }
   ],
   "source": [
    "df_3['IP'] = ip_encoder.fit_transform(df_3['IP'])\n",
    "print(df_3)"
   ]
  },
  {
   "cell_type": "code",
   "execution_count": 45,
   "metadata": {},
   "outputs": [
    {
     "name": "stdout",
     "output_type": "stream",
     "text": [
      "  IP  Counts\n",
      "0  T      73\n",
      "1  U      41\n",
      "2  V      90\n",
      "3  T      59\n",
      "4  U      54\n"
     ]
    }
   ],
   "source": [
    "df_4 = pd.DataFrame({'IP': np.random.choice(list('TUV'), size=5),\n",
    "                     'Counts': np.random.randint(40, 100, size=5)})\n",
    "print(df_4)"
   ]
  },
  {
   "cell_type": "code",
   "execution_count": 46,
   "metadata": {},
   "outputs": [
    {
     "name": "stdout",
     "output_type": "stream",
     "text": [
      "   IP  Counts\n",
      "0   0      73\n",
      "1   1      41\n",
      "2   2      90\n",
      "3   0      59\n",
      "4   1      54\n"
     ]
    }
   ],
   "source": [
    "ip_encoder_2 = TTLabelEncoder()\n",
    "df_4['IP'] = ip_encoder_2.fit_transform(df_4['IP'])\n",
    "print(df_4)"
   ]
  },
  {
   "cell_type": "code",
   "execution_count": 48,
   "metadata": {},
   "outputs": [
    {
     "data": {
      "text/plain": [
       "{'T': 0, 'U': 1, 'V': 2}"
      ]
     },
     "execution_count": 48,
     "metadata": {},
     "output_type": "execute_result"
    }
   ],
   "source": [
    "ip_encoder_2.code_dict"
   ]
  },
  {
   "cell_type": "code",
   "execution_count": null,
   "metadata": {},
   "outputs": [],
   "source": []
  }
 ],
 "metadata": {
  "kernelspec": {
   "display_name": "Python 3",
   "language": "python",
   "name": "python3"
  },
  "language_info": {
   "codemirror_mode": {
    "name": "ipython",
    "version": 3
   },
   "file_extension": ".py",
   "mimetype": "text/x-python",
   "name": "python",
   "nbconvert_exporter": "python",
   "pygments_lexer": "ipython3",
   "version": "3.7.4"
  }
 },
 "nbformat": 4,
 "nbformat_minor": 2
}
