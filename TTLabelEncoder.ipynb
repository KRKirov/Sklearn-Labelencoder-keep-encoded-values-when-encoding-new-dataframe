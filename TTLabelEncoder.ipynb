{
 "cells": [
  {
   "cell_type": "markdown",
   "metadata": {},
   "source": [
    "# TrainTestLabelencoder - Keep Encoded Values when Encoding a New Data Frame"
   ]
  },
  {
   "cell_type": "markdown",
   "metadata": {},
   "source": [
    "Based on an answer posted on StackOverflow:\n",
    "https://stackoverflow.com/questions/58754795/sklearn-labelencoder-keep-encoded-values-when-encoding-new-dataframe."
   ]
  },
  {
   "cell_type": "code",
   "execution_count": 1,
   "metadata": {},
   "outputs": [],
   "source": [
    "import numpy as np\n",
    "import pandas as pd\n",
    "from sklearn.base import BaseEstimator\n",
    "from sklearn.base import TransformerMixin"
   ]
  },
  {
   "cell_type": "code",
   "execution_count": 2,
   "metadata": {},
   "outputs": [],
   "source": [
    "class TTLabelEncoder(BaseEstimator, TransformerMixin):\n",
    "    \"\"\"Transform data frame columns with different categorical values\n",
    "    in training and test data. TT stands for Train-Test.\n",
    "    \n",
    "    Pass individual data frame columns to the class instance.\"\"\"\n",
    "    \n",
    "    def __init__(self):\n",
    "        self.code_dict = None\n",
    "        self.inv_code_dict = None\n",
    "        self.max_code = None\n",
    "        self.fitted = False\n",
    "    \n",
    "    def fit(self, df):\n",
    "        self.code_dict = dict(zip(df.unique(),\n",
    "                                  np.arange(len(df.unique()))))\n",
    "        self.__max_code__()\n",
    "        self.fitted = True\n",
    "        return self\n",
    "    \n",
    "    def transform(self, df):\n",
    "        self.check_fit_status()\n",
    "        new_cat = set(df.unique()).difference(set(self.code_dict.keys()))\n",
    "        if new_cat:\n",
    "            new_codes = dict(zip(new_cat, \n",
    "                     np.arange(len(new_cat)) + self.max_code + 1))\n",
    "            self.code_dict.update(new_codes)\n",
    "            self.__max_code__()\n",
    "        return df.map(self.code_dict)\n",
    "\n",
    "    def fit_transform(self, df):\n",
    "        if self.fitted == False:\n",
    "            self.fit(df)\n",
    "        df = self.transform(df)\n",
    "        return df\n",
    "    \n",
    "    def inverse_transform(self, df):\n",
    "        self.check_fit_status()\n",
    "        self.inv_code_dict = {v:k for k, v in self.code_dict.items()}\n",
    "        df = df.map(self.inv_code_dict)\n",
    "        return df\n",
    "    \n",
    "    def check_fit_status(self):\n",
    "        assert self.fitted == True, 'Fit the data before transforming.'\n",
    "        return self\n",
    "    \n",
    "    def __max_code__(self):\n",
    "        self.max_code = max(self.code_dict.values())\n",
    "        return self"
   ]
  },
  {
   "cell_type": "markdown",
   "metadata": {},
   "source": [
    "## Example 1"
   ]
  },
  {
   "cell_type": "code",
   "execution_count": 16,
   "metadata": {},
   "outputs": [
    {
     "name": "stdout",
     "output_type": "stream",
     "text": [
      "  IP  Counts\n",
      "0  D      16\n",
      "1  C      15\n",
      "2  A      15\n",
      "3  C      19\n",
      "4  B      13\n"
     ]
    }
   ],
   "source": [
    "df_1 = pd.DataFrame({'IP': np.random.choice(list('ABCD'), size=5),\n",
    "                   'Counts': np.random.randint(10, 20, size=5)})\n",
    "print(df_1)"
   ]
  },
  {
   "cell_type": "code",
   "execution_count": 17,
   "metadata": {},
   "outputs": [
    {
     "data": {
      "text/plain": [
       "{'D': 0, 'C': 1, 'A': 2, 'B': 3}"
      ]
     },
     "execution_count": 17,
     "metadata": {},
     "output_type": "execute_result"
    }
   ],
   "source": [
    "ip_encoder = TTLabelEncoder()\n",
    "ip_encoder.fit(df_1['IP'])\n",
    "ip_encoder.code_dict"
   ]
  },
  {
   "cell_type": "code",
   "execution_count": 18,
   "metadata": {},
   "outputs": [
    {
     "name": "stdout",
     "output_type": "stream",
     "text": [
      "   IP  Counts\n",
      "0   0      16\n",
      "1   1      15\n",
      "2   2      15\n",
      "3   1      19\n",
      "4   3      13\n"
     ]
    }
   ],
   "source": [
    "df_1['IP'] = ip_encoder.transform(df_1['IP'])\n",
    "print(df_1)"
   ]
  },
  {
   "cell_type": "code",
   "execution_count": 19,
   "metadata": {},
   "outputs": [
    {
     "name": "stdout",
     "output_type": "stream",
     "text": [
      "  IP  Counts\n",
      "0  E      19\n",
      "1  D      17\n",
      "2  F      18\n",
      "3  E      18\n",
      "4  D      14\n"
     ]
    }
   ],
   "source": [
    "df_2 = pd.DataFrame({'IP': np.random.choice(list('DEF'), size=5),\n",
    "                   'Counts': np.random.randint(10, 20, size=5)})\n",
    "print(df_2)"
   ]
  },
  {
   "cell_type": "code",
   "execution_count": 20,
   "metadata": {},
   "outputs": [
    {
     "name": "stdout",
     "output_type": "stream",
     "text": [
      "   IP  Counts\n",
      "0   5      19\n",
      "1   0      17\n",
      "2   4      18\n",
      "3   5      18\n",
      "4   0      14\n"
     ]
    }
   ],
   "source": [
    "df_2['IP'] = ip_encoder.transform(df_2['IP'])\n",
    "print(df_2)"
   ]
  },
  {
   "cell_type": "code",
   "execution_count": 24,
   "metadata": {},
   "outputs": [
    {
     "data": {
      "text/plain": [
       "{'D': 0, 'C': 1, 'A': 2, 'B': 3, 'F': 4, 'E': 5}"
      ]
     },
     "execution_count": 24,
     "metadata": {},
     "output_type": "execute_result"
    }
   ],
   "source": [
    "ip_encoder.code_dict"
   ]
  },
  {
   "cell_type": "code",
   "execution_count": 25,
   "metadata": {},
   "outputs": [
    {
     "name": "stdout",
     "output_type": "stream",
     "text": [
      "  IP  Counts\n",
      "0  E      19\n",
      "1  D      17\n",
      "2  F      18\n",
      "3  E      18\n",
      "4  D      14\n"
     ]
    }
   ],
   "source": [
    "df_2['IP'] = ip_encoder.inverse_transform(df_2['IP'])\n",
    "print(df_2)"
   ]
  },
  {
   "cell_type": "markdown",
   "metadata": {},
   "source": [
    "## Example 2"
   ]
  },
  {
   "cell_type": "code",
   "execution_count": 21,
   "metadata": {},
   "outputs": [
    {
     "name": "stdout",
     "output_type": "stream",
     "text": [
      "  IP  Counts\n",
      "0  Z      68\n",
      "1  X      89\n",
      "2  Z      57\n",
      "3  Y      74\n",
      "4  Z      75\n"
     ]
    }
   ],
   "source": [
    "df_3 = pd.DataFrame({'IP': np.random.choice(list('XYZ'), size=5),\n",
    "                     'Counts': np.random.randint(40, 100, size=5)})\n",
    "print(df_3)"
   ]
  },
  {
   "cell_type": "code",
   "execution_count": 22,
   "metadata": {},
   "outputs": [
    {
     "name": "stdout",
     "output_type": "stream",
     "text": [
      "   IP  Counts\n",
      "0   0      68\n",
      "1   1      89\n",
      "2   0      57\n",
      "3   2      74\n",
      "4   0      75\n"
     ]
    }
   ],
   "source": [
    "ip_encoder_2 = TTLabelEncoder()\n",
    "df_3['IP'] = ip_encoder_2.fit_transform(df_3['IP'])\n",
    "print(df_3)"
   ]
  },
  {
   "cell_type": "code",
   "execution_count": 28,
   "metadata": {},
   "outputs": [
    {
     "name": "stdout",
     "output_type": "stream",
     "text": [
      "  IP  Counts\n",
      "0  T      68\n",
      "1  V      70\n",
      "2  U      61\n",
      "3  U      48\n",
      "4  U      98\n"
     ]
    }
   ],
   "source": [
    "df_4 = pd.DataFrame({'IP': np.random.choice(list('TUV'), size=5),\n",
    "                     'Counts': np.random.randint(40, 100, size=5)})\n",
    "print(df_4)"
   ]
  },
  {
   "cell_type": "code",
   "execution_count": 29,
   "metadata": {},
   "outputs": [
    {
     "name": "stdout",
     "output_type": "stream",
     "text": [
      "   IP  Counts\n",
      "0   3      68\n",
      "1   4      70\n",
      "2   5      61\n",
      "3   5      48\n",
      "4   5      98\n"
     ]
    }
   ],
   "source": [
    "df_4['IP'] = ip_encoder_2.fit_transform(df_4['IP'])\n",
    "print(df_4)"
   ]
  },
  {
   "cell_type": "code",
   "execution_count": 30,
   "metadata": {},
   "outputs": [
    {
     "data": {
      "text/plain": [
       "{'Z': 0, 'X': 1, 'Y': 2, 'T': 3, 'V': 4, 'U': 5}"
      ]
     },
     "execution_count": 30,
     "metadata": {},
     "output_type": "execute_result"
    }
   ],
   "source": [
    "ip_encoder_2.code_dict"
   ]
  }
 ],
 "metadata": {
  "kernelspec": {
   "display_name": "Python 3",
   "language": "python",
   "name": "python3"
  },
  "language_info": {
   "codemirror_mode": {
    "name": "ipython",
    "version": 3
   },
   "file_extension": ".py",
   "mimetype": "text/x-python",
   "name": "python",
   "nbconvert_exporter": "python",
   "pygments_lexer": "ipython3",
   "version": "3.7.4"
  }
 },
 "nbformat": 4,
 "nbformat_minor": 2
}
